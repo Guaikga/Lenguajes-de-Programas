{
 "cells": [
  {
   "cell_type": "code",
   "execution_count": 75,
   "id": "6a43d834-b668-467f-bfa0-c0fb84114770",
   "metadata": {},
   "outputs": [],
   "source": [
    "#Este código define una función mágica de celda de IPython que permite ejecutar código PHP directamente dentro de un notebook de Python\n",
    "\n",
    "from IPython.core.magic import register_cell_magic\n",
    "import subprocess, tempfile\n",
    "\n",
    "@register_cell_magic\n",
    "def php(line, cell):\n",
    "    with tempfile.NamedTemporaryFile(suffix=\".php\", delete=False, mode=\"w\", encoding=\"utf-8\") as f:\n",
    "        f.write(cell)\n",
    "        f.flush()\n",
    "        result = subprocess.run(\n",
    "    [\"php\", f.name],\n",
    "    capture_output=True,\n",
    "    text=True,\n",
    "    encoding=\"utf-8\",  \n",
    "    errors=\"replace\"   \n",
    ")\n",
    "        print(result.stdout or result.stderr)"
   ]
  },
  {
   "cell_type": "markdown",
   "id": "e7b594e1-371e-41a2-adf4-9031a01d2436",
   "metadata": {},
   "source": [
    "**¿Qué es PHP?**\n",
    "\n",
    "PHP (Hypertext Preprocessor) es un lenguaje de scripts generalista y Open Source, especialmente concebido para el desarrollo de aplicaciones web. Puede ser integrado fácilmente al HTML. A diferencia de JavaScript que se ejecuta en el navegador, PHP se procesa en el servidor antes de enviar la página al usuario."
   ]
  },
  {
   "cell_type": "markdown",
   "id": "9fbbdc63-ba6f-4f21-b8a7-99acb50cd3a8",
   "metadata": {},
   "source": [
    "**Sintaxis Básica**"
   ]
  },
  {
   "cell_type": "code",
   "execution_count": 76,
   "id": "962caebc-947f-42cc-968d-dd2b10f05cf0",
   "metadata": {},
   "outputs": [
    {
     "name": "stdout",
     "output_type": "stream",
     "text": [
      "Hola mundo\n"
     ]
    }
   ],
   "source": [
    "%%php\n",
    "<?php\n",
    "//comentario de una línea\n",
    "echo \"Hola mundo\";\n",
    "?>"
   ]
  },
  {
   "cell_type": "markdown",
   "id": "8363ec08-84aa-4bd5-8b0f-8670d4d721a0",
   "metadata": {},
   "source": [
    "**Explicación:**\n",
    "- `<?php` y `?>` delimitan el código PHP\n",
    "- `//` para comentarios de una línea\n",
    "- `echo` muestra contenido en el navegador\n",
    "- Punto y coma (`;`) termina cada instrucción\n",
    "- Se puede mezclar con HTML fácilmente"
   ]
  },
  {
   "cell_type": "markdown",
   "id": "432c4c3e-a0a6-4249-a344-f35a8135a762",
   "metadata": {},
   "source": [
    "**Declaración de Variables**"
   ]
  },
  {
   "cell_type": "markdown",
   "id": "9e04f589-de60-481b-b24e-b8789d4dd31a",
   "metadata": {},
   "source": [
    "*Características de variables PHP:*\n",
    "- El prefijo `$` es obligatorio al declarar variables\n",
    "- Tipado dinámico\n",
    "- Case-sensitive (`$Variable` ≠ `$variable`)\n",
    "- Las comillas dobles interpretan variables, las simples no\n",
    "\n",
    "**Tipos de datos básicos:**\n",
    "- **String**: Texto entre comillas simples o dobles\n",
    "- **Integer**: Números enteros positivos o negativos\n",
    "- **Float**: Números decimales\n",
    "- **Boolean**: Valores verdadero/falso"
   ]
  },
  {
   "cell_type": "code",
   "execution_count": 14,
   "id": "0b5acb0f-0e76-4e21-87f1-e59a8ed8b238",
   "metadata": {},
   "outputs": [
    {
     "name": "stdout",
     "output_type": "stream",
     "text": [
      "\n"
     ]
    }
   ],
   "source": [
    "%%php\n",
    "<?php\n",
    "$variable = \"string\";\n",
    "$numero = 7;\n",
    "$decimal = 7.77;\n",
    "$booleano = true;\n",
    "$nulo = null;\n",
    "?>"
   ]
  },
  {
   "cell_type": "markdown",
   "id": "d4000103-e29b-464d-a339-d4364274c768",
   "metadata": {},
   "source": [
    "**Constantes**"
   ]
  },
  {
   "cell_type": "markdown",
   "id": "40215913-06f3-41aa-8d38-add85d11faa2",
   "metadata": {},
   "source": [
    "- Constantes: Valores inmutables, sin `$`\n",
    "- `define()`: Define en tiempo de ejecución\n",
    "- `const`: Define en tiempo de compilación\n",
    "- Constantes mágicas: Predefinidas por PHP, cambian según contexto"
   ]
  },
  {
   "cell_type": "code",
   "execution_count": 72,
   "id": "d5ed5735-bbc3-4fe5-9a9e-b029fb466260",
   "metadata": {},
   "outputs": [
    {
     "name": "stdout",
     "output_type": "stream",
     "text": [
      "7\n",
      "C:\\Users\\VICTUS\\AppData\\Local\\Temp\\tmpimguddnj.php\n"
     ]
    }
   ],
   "source": [
    "%%php\n",
    "<?php\n",
    "define(\"PI\", 3.1416);\n",
    "define(\"NOMBRE\", \"Guaica\");\n",
    "\n",
    "const EDAD = 19;\n",
    "\n",
    "echo __LINE__;     // Línea actual\n",
    "echo \"\\n\";\n",
    "echo __FILE__;     // Archivo actual\n",
    "?>"
   ]
  },
  {
   "cell_type": "markdown",
   "id": "24504d71-67fc-45c2-8f07-cdfaf5498953",
   "metadata": {},
   "source": [
    "**Operadores Aritméticos**"
   ]
  },
  {
   "cell_type": "markdown",
   "id": "3e471424-089f-44dd-a5f4-075d32f365e2",
   "metadata": {},
   "source": [
    "- `+` Suma\n",
    "- `-` Resta  \n",
    "- `*` Multiplicación\n",
    "- `/` División (resultado float)\n",
    "- `%` Módulo (resto de división)\n",
    "- `**` Exponenciación"
   ]
  },
  {
   "cell_type": "code",
   "execution_count": 44,
   "id": "1a44005f-9850-4be1-96f5-c35b41f76ac1",
   "metadata": {},
   "outputs": [
    {
     "name": "stdout",
     "output_type": "stream",
     "text": [
      "10\n",
      "4\n",
      "21\n",
      "2.3333333333333\n",
      "1\n",
      "343\n",
      "\n"
     ]
    }
   ],
   "source": [
    "%%php\n",
    "<?php\n",
    "$a = 7;\n",
    "$b = 3;\n",
    "\n",
    "echo $a + $b . \"\\n\";\n",
    "echo $a - $b . \"\\n\";\n",
    "echo $a * $b . \"\\n\";\n",
    "echo $a / $b . \"\\n\";\n",
    "echo $a % $b . \"\\n\";\n",
    "echo $a ** $b . \"\\n\";"
   ]
  },
  {
   "cell_type": "markdown",
   "id": "b7e6d2a2-323c-4381-9aea-677ef2324917",
   "metadata": {},
   "source": [
    "**Operadores de Comparación**\n",
    "- `==` Igualdad (mismo valor)\n",
    "- `===` Identidad (mismo valor y tipo)\n",
    "- `!=` o `<>` Diferente en valor\n",
    "- `!==` Diferente en valor o tipo\n",
    "- `<=>` Spaceship operator -1, 0, 1"
   ]
  },
  {
   "cell_type": "code",
   "execution_count": 5,
   "id": "5d3f4440-c23d-4e99-b945-69d308316956",
   "metadata": {},
   "outputs": [
    {
     "name": "stdout",
     "output_type": "stream",
     "text": [
      "bool(true)\n",
      "bool(false)\n",
      "bool(false)\n",
      "bool(true)\n",
      "\n"
     ]
    }
   ],
   "source": [
    "%%php\n",
    "<?php\n",
    "$a = 7;\n",
    "$b = \"7\";\n",
    "\n",
    "var_dump($a == $b);   // true - Igual en valor\n",
    "var_dump($a === $b);  // false - Igual en valor y tipo\n",
    "var_dump($a != $b);   // false - Diferente en valor\n",
    "var_dump($a !== $b);  // true - Diferente en valor o tipo\n",
    "?>"
   ]
  },
  {
   "cell_type": "markdown",
   "id": "29c0888f-4d41-460f-aca7-d915d4de7373",
   "metadata": {},
   "source": [
    "`var_dump` Es una función de depuración que muestra información detallada sobre una variable"
   ]
  },
  {
   "cell_type": "markdown",
   "id": "4c46bf38-7015-4bc4-b8cb-b087d47b32d2",
   "metadata": {},
   "source": [
    "**Operadores booleanos:**\n",
    "- `&&` o `and`: AND\n",
    "- `||` o `or`: OR\n",
    "- `!`: NOT \n",
    "- `xor`: XOR \n",
    "- `and`/`or` tienen menor precedencia que `&&`/`||`"
   ]
  },
  {
   "cell_type": "code",
   "execution_count": 8,
   "id": "ff004dff-208e-4125-8fb7-172c9fe4a8e4",
   "metadata": {},
   "outputs": [
    {
     "name": "stdout",
     "output_type": "stream",
     "text": [
      "bool(false)\n",
      "bool(true)\n",
      "bool(false)\n",
      "bool(false)\n",
      "\n"
     ]
    }
   ],
   "source": [
    "%%php\n",
    "<?php\n",
    "$a = true;\n",
    "$b = false;\n",
    "\n",
    "var_dump($a && $b);  // false - AND\n",
    "var_dump($a || $b);  // true - OR\n",
    "var_dump(!$a);       // false - NOT\n",
    "var_dump($a and $b); // false - AND \n",
    "?>"
   ]
  },
  {
   "cell_type": "markdown",
   "id": "941f310f-342f-40c3-9d34-bc25cb7082d8",
   "metadata": {},
   "source": [
    "**Condicionales:**\n",
    "- `if`: Evalúa condición\n",
    "- `elseif` o `else if`: Condición alternativa\n",
    "- `else`: Caso por defecto"
   ]
  },
  {
   "cell_type": "code",
   "execution_count": 11,
   "id": "8daf293a-573f-44c8-9e82-1397db076c35",
   "metadata": {},
   "outputs": [
    {
     "name": "stdout",
     "output_type": "stream",
     "text": [
      "Mayor de edad\n"
     ]
    }
   ],
   "source": [
    "%%php\n",
    "<?php\n",
    "$edad = 18;\n",
    "\n",
    "if ($edad >= 18) {\n",
    "    echo \"Mayor de edad\";\n",
    "} else if ($edad >= 13) {\n",
    "    echo \"Adolescente\";\n",
    "} else {\n",
    "    echo \"Niño\";\n",
    "}\n",
    "?>"
   ]
  },
  {
   "cell_type": "markdown",
   "id": "0d4846e4-6429-4faa-b95b-9a57882f6087",
   "metadata": {},
   "source": [
    "**Switch**\n",
    "- `case`: Cada caso posible\n",
    "- `break`: Evita que continúe a siguientes casos\n",
    "- `default`: Caso cuando no coincide ningún case\n",
    "- Match expression (PHP 8+) es alternativa más moderna"
   ]
  },
  {
   "cell_type": "code",
   "execution_count": 17,
   "id": "9984db40-98a4-4cff-a9bc-e636fdc20948",
   "metadata": {},
   "outputs": [
    {
     "name": "stdout",
     "output_type": "stream",
     "text": [
      "Que flojera ver programación matemática\n"
     ]
    }
   ],
   "source": [
    "%%php\n",
    "<?php\n",
    "$dia = \"viernes\";\n",
    "\n",
    "switch ($dia) {\n",
    "    case \"lunes\":\n",
    "        echo \"Que flojera ver redes\";\n",
    "        break;\n",
    "    case \"viernes\":\n",
    "        echo \"Que flojera ver programación matemática\";\n",
    "        break;\n",
    "    default:\n",
    "        echo \"Normal\";\n",
    "}\n",
    "?>"
   ]
  },
  {
   "cell_type": "markdown",
   "id": "8c6e8fb7-5a0a-44e1-b91b-32adf4a706d8",
   "metadata": {},
   "source": [
    "**Tipos de bucles:**\n",
    "- `for`: Cuando se sabe el número de iteraciones\n",
    "- `foreach`: Para recorrer arrays y objetos\n",
    "- `while`: Mientras condición sea verdadera\n",
    "- `do-while`: Ejecuta al menos una vez\n",
    "- `break` sale del bucle, `continue` salta a siguiente iteración"
   ]
  },
  {
   "cell_type": "code",
   "execution_count": 24,
   "id": "63dd88b0-1490-4600-b64a-b98242254089",
   "metadata": {},
   "outputs": [
    {
     "name": "stdout",
     "output_type": "stream",
     "text": [
      "0\n",
      "1\n",
      "2\n",
      "3\n",
      "4\n",
      "5\n",
      "6\n",
      "7\n",
      "\n"
     ]
    }
   ],
   "source": [
    "%%php\n",
    "<?php\n",
    "// Bucle for\n",
    "for ($i = 0; $i < 5; $i++) {\n",
    "    echo $i . \"\\n\";\n",
    "}\n",
    "\n",
    "// Bucle foreach\n",
    "$numeros = [\"5\", \"6\", \"7\"];\n",
    "foreach ($numeros as $numeros) {\n",
    "    echo $numeros . \"\\n\";\n",
    "}\n",
    "?>"
   ]
  },
  {
   "cell_type": "markdown",
   "id": "2ff1ce11-dd2b-4fc1-87aa-a710c398eedf",
   "metadata": {},
   "source": [
    "**Funciones:**\n",
    "- `function` palabra clave para definir\n",
    "- Parámetros pueden tener valores por defecto\n",
    "- `return` devuelve valor (opcional)\n",
    "- Scope local: variables dentro no son accesibles fuera\n",
    "- Pueden llamarse antes de definirse (hoisting)"
   ]
  },
  {
   "cell_type": "code",
   "execution_count": 23,
   "id": "d02a526c-436a-48e9-bc98-5b72c7cc557e",
   "metadata": {},
   "outputs": [
    {
     "name": "stdout",
     "output_type": "stream",
     "text": [
      "Holiwis Profe\n",
      "Holiwis Guaica\n",
      "\n"
     ]
    }
   ],
   "source": [
    "%%php\n",
    "<?php\n",
    "function saludar($nombre = \"Profe\") {\n",
    "    return \"Holiwis $nombre\\n\";\n",
    "}\n",
    "\n",
    "echo saludar();\n",
    "echo saludar(\"Guaica\");\n",
    "?>"
   ]
  },
  {
   "cell_type": "markdown",
   "id": "45c05afb-88dd-464c-8ceb-b6686760600e",
   "metadata": {},
   "source": [
    "**Funciones para Arrays**\n"
   ]
  },
  {
   "cell_type": "code",
   "execution_count": 59,
   "id": "f7dbaf76-5b96-474c-ab29-77481ab143ce",
   "metadata": {},
   "outputs": [
    {
     "name": "stdout",
     "output_type": "stream",
     "text": [
      "Array\n",
      "(\n",
      "    [1] => 2\n",
      "    [3] => 4\n",
      ")\n",
      "Array\n",
      "(\n",
      "    [0] => 1\n",
      "    [1] => 4\n",
      "    [2] => 9\n",
      "    [3] => 16\n",
      "    [4] => 25\n",
      ")\n",
      "suma: 15\n",
      "cantidad = 5\n"
     ]
    }
   ],
   "source": [
    "%%php\n",
    "<?php\n",
    "$numeros = [1, 2, 3, 4, 5];\n",
    "\n",
    "$pares = array_filter($numeros, fn($n) => $n % 2 == 0);\n",
    "print_r($pares);\n",
    "\n",
    "\n",
    "$cuadrados = array_map(fn($n) => $n * $n, $numeros);\n",
    "print_r($cuadrados);\n",
    "\n",
    "$suma = array_reduce($numeros, fn($carry, $item) => $carry + $item, 0);\n",
    "print_r(\"suma: $suma\\n\");\n",
    "\n",
    "echo \"cantidad = \" . count($numeros);\n",
    "?>"
   ]
  },
  {
   "cell_type": "markdown",
   "id": "2d0ba33a-ba40-4691-9fa4-227c56a53714",
   "metadata": {},
   "source": [
    "- `array_filter`: Filtra elementos según condición\n",
    "- `array_map`: Aplica función a cada elemento\n",
    "- `array_reduce`: Reduce array a un solo valor\n",
    "- `count`: Cuenta elementos"
   ]
  },
  {
   "cell_type": "markdown",
   "id": "ae7c2114-7d12-4f29-b573-50a198637c64",
   "metadata": {},
   "source": [
    "**Programación Orientada a Objetos**\n"
   ]
  },
  {
   "cell_type": "code",
   "execution_count": 62,
   "id": "60c29c5d-3b2f-486d-8e6a-1cdd084e675b",
   "metadata": {},
   "outputs": [
    {
     "name": "stdout",
     "output_type": "stream",
     "text": [
      "Hola, soy Guaica\n"
     ]
    }
   ],
   "source": [
    "%%php\n",
    "<?php\n",
    "class Persona {\n",
    "    // Propiedades\n",
    "    public $nombre;\n",
    "    protected $edad;\n",
    "    private $cedula;\n",
    "    \n",
    "    // Constructor\n",
    "    public function __construct($nombre, $edad) {\n",
    "        $this->nombre = $nombre;\n",
    "        $this->edad = $edad;\n",
    "    }\n",
    "    \n",
    "    // Métodos\n",
    "    public function saludar() {\n",
    "        return \"Hola, soy {$this->nombre}\";\n",
    "    }\n",
    "}\n",
    "\n",
    "// Uso\n",
    "$persona = new Persona(\"Guaica\", 19);\n",
    "echo $persona->saludar();\n",
    "?>"
   ]
  },
  {
   "cell_type": "markdown",
   "id": "ffe3efe3-06de-4860-8a7d-e9dfac3efdd8",
   "metadata": {},
   "source": [
    "- `class`: Define una clase\n",
    "- `public`: Accesible desde cualquier lugar\n",
    "- `protected`: Accesible desde la clase y herederas\n",
    "- `private`: Solo accesible desde la clase\n",
    "- `$this`: Referencia al objeto actual\n",
    "- `__construct`: Método constructor\n",
    "- `new`: Crea nueva instancia"
   ]
  },
  {
   "cell_type": "markdown",
   "id": "3fa7f144-881e-4327-8a89-715bb20bb810",
   "metadata": {},
   "source": [
    "**Herencia**"
   ]
  },
  {
   "cell_type": "code",
   "execution_count": 71,
   "id": "35a7fbac-2f00-43d7-8a22-07bc15d86049",
   "metadata": {},
   "outputs": [
    {
     "name": "stdout",
     "output_type": "stream",
     "text": [
      "Hola, soy Guaica, soy un Estudiante\n"
     ]
    }
   ],
   "source": [
    "%%php\n",
    "<?php\n",
    "//Usamos la clase anterior\n",
    "class Persona {\n",
    "    public $nombre;\n",
    "    protected $edad;\n",
    "    \n",
    "    public function __construct($nombre, $edad) {\n",
    "        $this->nombre = $nombre;\n",
    "        $this->edad = $edad;\n",
    "    }\n",
    "    \n",
    "    public function saludar() {\n",
    "        return \"Hola, soy {$this->nombre}\";\n",
    "    }\n",
    "}\n",
    "//Hacemos la clase hijo\n",
    "class Ocupacion extends Persona {\n",
    "    private $puesto;\n",
    "    \n",
    "    public function __construct($nombre, $edad, $puesto) {\n",
    "        parent::__construct($nombre, $edad);\n",
    "        $this->puesto = $puesto;\n",
    "    }\n",
    "    \n",
    "    public function saludar() {\n",
    "        return parent::saludar() . \", soy un {$this->puesto}\";\n",
    "    }\n",
    "}\n",
    "\n",
    "$ocupacion = new Ocupacion(\"Guaica\", 19, \"Estudiante\");\n",
    "echo $ocupacion->saludar();\n",
    "?>"
   ]
  }
 ],
 "metadata": {
  "kernelspec": {
   "display_name": "Python 3 (ipykernel)",
   "language": "python",
   "name": "python3"
  },
  "language_info": {
   "codemirror_mode": {
    "name": "ipython",
    "version": 3
   },
   "file_extension": ".py",
   "mimetype": "text/x-python",
   "name": "python",
   "nbconvert_exporter": "python",
   "pygments_lexer": "ipython3",
   "version": "3.13.1"
  }
 },
 "nbformat": 4,
 "nbformat_minor": 5
}
