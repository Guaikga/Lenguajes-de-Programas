{
 "cells": [
  {
   "cell_type": "markdown",
   "id": "35bbb63e-7c7f-4102-b2e1-fb03a35daab8",
   "metadata": {},
   "source": [
    "**¿Qué es Ruby?**\n",
    "\n",
    "Ruby es un lenguaje de programación de código abierto y dinámico que se enfoca en la simplicidad y la productividad. Es conocido por su sintaxis elegante y natural, Es orientado a objetos puro, lo que significa que todo es un objeto. Su popularidad se debe en gran medida al framework de desarrollo web Ruby on Rails."
   ]
  },
  {
   "cell_type": "code",
   "execution_count": 2,
   "id": "6a6a74b5-b47a-45f7-a7cd-ec9e236c5d43",
   "metadata": {},
   "outputs": [
    {
     "name": "stdout",
     "output_type": "stream",
     "text": [
      "Hola mundo\n"
     ]
    }
   ],
   "source": [
    "# Comentario de una línea\n",
    "puts \"Hola mundo\""
   ]
  },
  {
   "cell_type": "markdown",
   "id": "1ab5106b-b7d3-4ae0-81cc-4aec09d65787",
   "metadata": {},
   "source": [
    "**Explicación:**\n",
    "\n",
    "- `#` para comentarios de una línea\n",
    "- `puts` muestra contenido en la consola (agrega nueva línea)\n",
    "- `print` muestra contenido sin nueva línea\n",
    "- No requiere punto y coma al final"
   ]
  },
  {
   "cell_type": "markdown",
   "id": "baaec87f-5e37-4c76-b0be-e4e1116ee467",
   "metadata": {},
   "source": [
    "**Declaración de Variables**\n",
    "\n",
    "- Tipado dinámico (no especificas el tipo)\n",
    "- Case-sensitive (Variable ≠ variable)\n",
    "- Diferentes prefijos según el scope\n",
    "\n",
    "**Tipos de datos básicos:**\n",
    "\n",
    "- `string`: Texto entre comillas\n",
    "- `int`: Números enteros\n",
    "- `double`: Números decimales\n",
    "- `bool`: Valores verdadero/falso\n",
    "- `Nil`: Representa \"sin valor\""
   ]
  },
  {
   "cell_type": "code",
   "execution_count": 3,
   "id": "7a7f8977-173e-495e-9ae1-2ba8e3a89fbf",
   "metadata": {},
   "outputs": [
    {
     "name": "stdout",
     "output_type": "stream",
     "text": [
      "Variable: string\n",
      "Número: 7\n",
      "Decimal: 7.77\n",
      "Booleano: true\n",
      "Nulo: \n"
     ]
    }
   ],
   "source": [
    "variable = \"string\"\n",
    "numero = 7\n",
    "decimal_numero = 7.77\n",
    "booleano = true\n",
    "nulo = nil\n",
    "\n",
    "puts \"Variable: #{variable}\"\n",
    "puts \"Número: #{numero}\"\n",
    "puts \"Decimal: #{decimal_numero}\"\n",
    "puts \"Booleano: #{booleano}\"\n",
    "puts \"Nulo: #{nulo}\""
   ]
  },
  {
   "cell_type": "markdown",
   "id": "3d3c3b9d-22b5-47ac-b610-170e9c96cb63",
   "metadata": {},
   "source": [
    "`#{variable}` para interpolación de variables dentro de cadenas de texto"
   ]
  },
  {
   "cell_type": "markdown",
   "id": "5c1be584-8e24-497d-b1ad-af7b76ca225a",
   "metadata": {},
   "source": [
    "**Constantes**\n",
    "\n",
    "- Se escriben en MAYÚSCULAS\n",
    "- Por convención, son inmutables (aunque Ruby permite cambiarlas)"
   ]
  },
  {
   "cell_type": "code",
   "execution_count": 9,
   "id": "a604eafa-4ff3-4c78-8267-8c73ef644899",
   "metadata": {},
   "outputs": [
    {
     "name": "stdout",
     "output_type": "stream",
     "text": [
      "7\n",
      "Pasticho\n"
     ]
    }
   ],
   "source": [
    "NUMERO_FAV = 7\n",
    "COMIDA = \"Pasticho\"\n",
    "\n",
    "puts NUMERO_FAV\n",
    "puts COMIDA"
   ]
  },
  {
   "cell_type": "markdown",
   "id": "591f93e6-157c-463e-aca1-8cdb4c04c0f1",
   "metadata": {},
   "source": [
    "**Operadores Aritméticos**\n",
    "\n",
    "- `+` Suma\n",
    "- `-` Resta  \n",
    "- `*` Multiplicación\n",
    "- `/` División \n",
    "- `%` Módulo (resto de división)\n",
    "- `**` Exponenciación"
   ]
  },
  {
   "cell_type": "code",
   "execution_count": 10,
   "id": "eed39137-9c26-4e42-b5b5-5e9f1e525c5e",
   "metadata": {},
   "outputs": [
    {
     "name": "stdout",
     "output_type": "stream",
     "text": [
      "10\n",
      "4\n",
      "21\n",
      "2\n",
      "1\n",
      "343\n"
     ]
    }
   ],
   "source": [
    "a = 7\n",
    "b = 3\n",
    "\n",
    "puts a + b\n",
    "puts a - b\n",
    "puts a * b\n",
    "puts a / b\n",
    "puts a % b\n",
    "puts a ** b"
   ]
  },
  {
   "cell_type": "markdown",
   "id": "6f764601-ba95-47c0-b925-ff1501017424",
   "metadata": {},
   "source": [
    "**Operadores de Comparación**\n",
    "\n",
    "- `==` Igualdad (mismo valor)\n",
    "- `!=` Diferente en valor\n",
    "- `>` Mayor que\n",
    "- `<` Menor que\n",
    "- `>=` Mayor o igual que\n",
    "- `<=` Menor o igual que"
   ]
  },
  {
   "cell_type": "code",
   "execution_count": 11,
   "id": "254c825e-0d18-4a15-811a-16be369b5348",
   "metadata": {},
   "outputs": [
    {
     "name": "stdout",
     "output_type": "stream",
     "text": [
      "true\n",
      "false\n",
      "true\n",
      "true\n",
      "true\n",
      "true\n"
     ]
    }
   ],
   "source": [
    "a = 7\n",
    "b = \"7\"\n",
    "\n",
    "puts a == 7 # true\n",
    "puts a != 7 # false\n",
    "puts a > 5 # true\n",
    "puts a < 10 # true\n",
    "puts a >= 7 # true\n",
    "puts a <= 7# true"
   ]
  },
  {
   "cell_type": "markdown",
   "id": "4f20f245-794a-40d5-b89f-3da872d78221",
   "metadata": {},
   "source": [
    "**Operadores booleanos:**\n",
    "\n",
    "- `&&` o `and` AND\n",
    "- `||` o `or `OR\n",
    "- `!` o `not` NOT"
   ]
  },
  {
   "cell_type": "code",
   "execution_count": 13,
   "id": "11da8929-3889-467f-97df-c7f2ad8fefa5",
   "metadata": {},
   "outputs": [
    {
     "name": "stdout",
     "output_type": "stream",
     "text": [
      "false\n",
      "true\n",
      "false\n",
      "true\n"
     ]
    }
   ],
   "source": [
    "a = true\n",
    "b = false\n",
    "\n",
    "puts a && b  # false - AND\n",
    "puts a || b  # true - OR\n",
    "puts !a      # false - NOT\n",
    "puts a and b # false - AND"
   ]
  },
  {
   "cell_type": "markdown",
   "id": "0dab469e-958a-40e5-a433-5514799e4877",
   "metadata": {},
   "source": [
    "**Condicionales:**\n",
    "\n",
    "- `if`: Evalúa condición\n",
    "- `elsif`: Condición alternativa\n",
    "- `else`: Caso por defecto"
   ]
  },
  {
   "cell_type": "code",
   "execution_count": 14,
   "id": "7e55309b-67e1-420a-a310-de7a7e49ce78",
   "metadata": {},
   "outputs": [
    {
     "name": "stdout",
     "output_type": "stream",
     "text": [
      "Mayor de edad\n"
     ]
    }
   ],
   "source": [
    "edad = 18\n",
    "\n",
    "if edad >= 18\n",
    "    puts \"Mayor de edad\"\n",
    "elsif edad >= 13\n",
    "    puts \"Adolescente\"\n",
    "else\n",
    "    puts \"Niño\"\n",
    "end"
   ]
  },
  {
   "cell_type": "markdown",
   "id": "653c1449-d21a-47b6-8f8c-33ebe581e152",
   "metadata": {},
   "source": [
    "**Case (Switch)**\n",
    "\n",
    "- `when`: Cada caso posible\n",
    "- `else`: Caso por defecto\n",
    "- No requiere `break`"
   ]
  },
  {
   "cell_type": "code",
   "execution_count": 17,
   "id": "707ca459-3217-4502-8c5a-08328d16aa7d",
   "metadata": {},
   "outputs": [
    {
     "name": "stdout",
     "output_type": "stream",
     "text": [
      "Esperar con ansias el domingo\n"
     ]
    }
   ],
   "source": [
    "dia = \"viernes\"\n",
    "\n",
    "case dia\n",
    "when \"lunes\"\n",
    "    puts \"Sufrir otra semana más\"\n",
    "when \"viernes\"\n",
    "    puts \"Esperar con ansias el domingo\"\n",
    "else\n",
    "    puts \"Aburrido\"\n",
    "end"
   ]
  },
  {
   "cell_type": "markdown",
   "id": "403f3bc1-c3c4-48bb-bbbc-05b8c34b38d8",
   "metadata": {},
   "source": [
    "**Tipos de bucles:**\n",
    "\n",
    "- `for`: Para rangos y colecciones\n",
    "- `each`: Para recorrer arrays y hashes\n",
    "- `whil`e: Mientras condición sea verdadera\n",
    "- `until`: Hasta que condición sea verdadera\n",
    "- `break` sale del bucle, `next` salta a siguiente iteración"
   ]
  },
  {
   "cell_type": "code",
   "execution_count": 18,
   "id": "5305ed29-25fc-48eb-8728-0db717f69886",
   "metadata": {},
   "outputs": [
    {
     "name": "stdout",
     "output_type": "stream",
     "text": [
      "0\n",
      "1\n",
      "2\n",
      "3\n",
      "4\n",
      "5\n",
      "6\n",
      "7\n"
     ]
    },
    {
     "data": {
      "text/plain": [
       "[5, 6, 7]"
      ]
     },
     "execution_count": 18,
     "metadata": {},
     "output_type": "execute_result"
    }
   ],
   "source": [
    "# Bucle for\n",
    "for i in 0..4\n",
    "    puts i\n",
    "end\n",
    "\n",
    "# Bucle each\n",
    "numeros = [5, 6, 7]\n",
    "numeros.each do |num|\n",
    "    puts num\n",
    "end"
   ]
  },
  {
   "cell_type": "markdown",
   "id": "b08f4895-5e46-44d3-85cc-c5e23aaa3363",
   "metadata": {},
   "source": [
    "**While y Do-While**"
   ]
  },
  {
   "cell_type": "code",
   "execution_count": 20,
   "id": "f050d747-c307-45ac-83dd-d96baf8ca966",
   "metadata": {},
   "outputs": [
    {
     "name": "stdout",
     "output_type": "stream",
     "text": [
      "Contador: 1\n",
      "Contador: 2\n",
      "Contador: 3\n",
      "Contador: 4\n",
      "Contador: 5\n",
      "Número: 1\n",
      "Número: 2\n",
      "Número: 3\n",
      "Número: 4\n",
      "Número: 5\n",
      "Número impar: 1\n",
      "Número impar: 3\n",
      "Número impar: 5\n",
      "7 y saliendo del bucle\n"
     ]
    }
   ],
   "source": [
    "# While - Mientras condición sea verdadera\n",
    "contador = 1\n",
    "while contador <= 5\n",
    "    puts \"Contador: #{contador}\"\n",
    "    contador += 1\n",
    "end\n",
    "\n",
    "# Until - Hasta que condición sea verdadera\n",
    "numero = 1\n",
    "until numero > 5\n",
    "    puts \"Número: #{numero}\"\n",
    "    numero += 1\n",
    "end\n",
    "\n",
    "#break y next\n",
    "i = 0\n",
    "while i < 10\n",
    "    i += 1\n",
    "    \n",
    "    # Next: Salta a la siguiente iteración\n",
    "    if i % 2 == 0\n",
    "        next # Salta los números pares\n",
    "    end\n",
    "    \n",
    "    # Break: Sale completamente del bucle\n",
    "    if i == 7\n",
    "        puts \"7 y saliendo del bucle\"\n",
    "        break\n",
    "    end\n",
    "    \n",
    "    puts \"Número impar: #{i}\"\n",
    "end"
   ]
  },
  {
   "cell_type": "markdown",
   "id": "990b3138-35cd-41c6-8cc9-050c3e234c0b",
   "metadata": {},
   "source": [
    "**Métodos**\n",
    "\n",
    "- Definidos con `def`\n",
    "- `return` devuelve valor\n",
    "- Parámetros pueden tener valores por defecto"
   ]
  },
  {
   "cell_type": "code",
   "execution_count": 21,
   "id": "743dcd60-50b4-4aba-b81d-f4b332408c3b",
   "metadata": {},
   "outputs": [
    {
     "name": "stdout",
     "output_type": "stream",
     "text": [
      "Holiwis Profe\n",
      "Holiwis Guaica\n"
     ]
    }
   ],
   "source": [
    "def saludar(nombre = \"Profe\")\n",
    "    \"Holiwis #{nombre}\\n\"\n",
    "end\n",
    "\n",
    "puts saludar\n",
    "puts saludar(\"Guaica\")"
   ]
  },
  {
   "cell_type": "markdown",
   "id": "a7b07aa4-ef39-426d-a523-4b3fb760ee2f",
   "metadata": {},
   "source": [
    "**Funciones para Arrays**"
   ]
  },
  {
   "cell_type": "code",
   "execution_count": 22,
   "id": "b43980ff-83a6-423a-ae59-205731eca8fe",
   "metadata": {},
   "outputs": [
    {
     "name": "stdout",
     "output_type": "stream",
     "text": [
      "[2, 4]\n",
      "[1, 4, 9, 16, 25]\n",
      "suma: 15\n",
      "cantidad = 5\n"
     ]
    }
   ],
   "source": [
    "numeros = [1, 2, 3, 4, 5]\n",
    "\n",
    "pares = numeros.select { |n| n % 2 == 0 }\n",
    "puts pares.inspect\n",
    "\n",
    "cuadrados = numeros.map { |n| n * n }\n",
    "puts cuadrados.inspect\n",
    "\n",
    "suma = numeros.sum\n",
    "puts \"suma: #{suma}\"\n",
    "\n",
    "puts \"cantidad = #{numeros.length}\""
   ]
  },
  {
   "cell_type": "markdown",
   "id": "a30764fb-0b39-4f4b-81f8-6f2c506301cb",
   "metadata": {},
   "source": [
    "- `select`: Filtra elementos según condición\n",
    "- `map`: Aplica función a cada elemento\n",
    "- `sum`: Suma todos los elementos\n",
    "- `length`: Cuenta elementos"
   ]
  },
  {
   "cell_type": "markdown",
   "id": "dfb6ed90-a5d3-47c7-b0bc-a1ab408d3427",
   "metadata": {},
   "source": [
    "**Programación Orientada a Objetos**"
   ]
  },
  {
   "cell_type": "code",
   "execution_count": 23,
   "id": "c2fe9e01-f177-4d7a-901f-533739075bae",
   "metadata": {},
   "outputs": [
    {
     "name": "stdout",
     "output_type": "stream",
     "text": [
      "Hola, soy Guaica\n"
     ]
    }
   ],
   "source": [
    "class Persona\n",
    "    # Atributos\n",
    "    attr_accessor :nombre\n",
    "    attr_reader :edad\n",
    "    \n",
    "    # Constructor\n",
    "    def initialize(nombre, edad)\n",
    "        @nombre = nombre\n",
    "        @edad = edad\n",
    "    end\n",
    "    \n",
    "    # Métodos\n",
    "    def saludar\n",
    "        \"Hola, soy #{@nombre}\"\n",
    "    end\n",
    "end\n",
    "\n",
    "# Uso\n",
    "persona = Persona.new(\"Guaica\", 19)\n",
    "puts persona.saludar"
   ]
  },
  {
   "cell_type": "markdown",
   "id": "a8b567ed-2c1a-4e43-b62d-90569bed7fb4",
   "metadata": {},
   "source": [
    "- `class`: Define una clase\n",
    "- `attr_accessor`: Crea getter y setter\n",
    "- `attr_reader`: Crea solo getter\n",
    "- `attr_writer`: Crea solo setter\n",
    "- `@variable`: Variable de instancia\n",
    "- `initialize`: Método constructor\n",
    "- `new`: Crea nueva instancia"
   ]
  },
  {
   "cell_type": "markdown",
   "id": "770ea9aa-0509-401d-99f2-1c7d2b8c81cf",
   "metadata": {},
   "source": [
    "**Herencia**"
   ]
  },
  {
   "cell_type": "code",
   "execution_count": 28,
   "id": "9a3e5e8e-0392-47aa-92a3-66e9cb31fe76",
   "metadata": {},
   "outputs": [
    {
     "name": "stdout",
     "output_type": "stream",
     "text": [
      "Hola, soy Guaica, soy un Estudiante\n"
     ]
    }
   ],
   "source": [
    "# Clase base\n",
    "class Persona\n",
    "    attr_accessor :nombre, :edad\n",
    "    \n",
    "    def initialize(nombre, edad)\n",
    "        @nombre = nombre\n",
    "        @edad = edad\n",
    "    end\n",
    "    \n",
    "    def saludar\n",
    "        \"Hola, soy #{@nombre}\"\n",
    "    end\n",
    "end\n",
    "\n",
    "# Clase derivada\n",
    "class Ocupacion < Persona\n",
    "    def initialize(nombre, edad, puesto)\n",
    "        super(nombre, edad)\n",
    "        @puesto = puesto\n",
    "    end\n",
    "    \n",
    "    def saludar\n",
    "        super + \", soy un #{@puesto}\"\n",
    "    end\n",
    "end\n",
    "\n",
    "    ocupacion = Ocupacion.new(\"Guaica\", 19, \"Estudiante\")\n",
    "puts ocupacion.saludar"
   ]
  },
  {
   "cell_type": "code",
   "execution_count": null,
   "id": "151e9317-8c24-499d-bb8d-f12ab377d7f3",
   "metadata": {},
   "outputs": [],
   "source": []
  }
 ],
 "metadata": {
  "kernelspec": {
   "display_name": "Ruby 3 (iruby kernel)",
   "language": "ruby",
   "name": "ruby3"
  },
  "language_info": {
   "file_extension": ".rb",
   "mimetype": "application/x-ruby",
   "name": "ruby",
   "version": "3.4.7"
  }
 },
 "nbformat": 4,
 "nbformat_minor": 5
}
