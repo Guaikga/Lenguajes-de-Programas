{
 "cells": [
  {
   "cell_type": "markdown",
   "id": "c8c93e2c-f85e-45bf-94f6-f1b9cbe71ce9",
   "metadata": {},
   "source": [
    "**¿Qué es C#?**\n",
    "\n",
    "C# (C Sharp) es un lenguaje de programación orientado a objetos desarrollado por Microsoft. Es parte del ecosistema .NET y es ampliamente usado para desarrollo web, desktop, mobile y games.\n",
    "\n",
    "C# pertenece a la familia de lenguajes C. La sintaxis de C# resulta familiar si se ha utilizado C, C++, JavaScript, TypeScript o Java. Al igual que en C y C++, el punto y coma `;` define el final de las sentencias. Los identificadores de C# distinguen entre mayúsculas y minúsculas. C# utiliza las llaves, `{` y `}`, sentencias de control como `if`, `else` y `switch`, y construcciones de bucle como `for` y `while`. C# también cuenta con una sentencia `foreach` para cualquier tipo de colección.\n"
   ]
  },
  {
   "cell_type": "code",
   "execution_count": 5,
   "id": "751f342a-6a52-4f43-aa89-e0a40a915435",
   "metadata": {},
   "outputs": [
    {
     "name": "stdout",
     "output_type": "stream",
     "text": [
      "Hola mundo!\n"
     ]
    }
   ],
   "source": [
    "// En C# necesitamos una clase y método Main para ejecutar, pero al emplear el Kernel desde Jupyter no es necesario\n",
    "\n",
    "//using System;\n",
    "\n",
    "//class Program\n",
    "//{\n",
    "    //static void Main()\n",
    "    //{\n",
    "        Console.WriteLine(\"Hola mundo!\");\n",
    "    //}\n",
    "//}"
   ]
  },
  {
   "cell_type": "markdown",
   "id": "1fd39c99-507d-4e0d-915c-6b0c1e9e5cd9",
   "metadata": {},
   "source": [
    "**Explicación:**\n",
    "\n",
    "- `using System` importa funcionalidades básicas\n",
    "- `class Program` define una clase (obligatorio en C#)\n",
    "- `static void Main()` método principal donde empieza la ejecución\n",
    "- `Console.WriteLine()` muestra contenido en la consola\n",
    "- `;` termina cada instrucción"
   ]
  },
  {
   "cell_type": "markdown",
   "id": "25cb15cd-daf9-4979-ada7-810feac7579c",
   "metadata": {},
   "source": [
    "**Declaración de Variables**\n",
    "\n",
    "- Tipado estático: Debes declarar el tipo\n",
    "- Case-sensitive (Variable ≠ variable)\n",
    "- Los `string` usan comillas dobles\n",
    "\n",
    "**Tipos de datos básicos:**\n",
    "\n",
    "- `string`: Texto entre comillas dobles\n",
    "- `int`: Números enteros positivos o negativos\n",
    "- `double`: Números decimales\n",
    "- `bool`: Valores verdadero/falso\n",
    "\n",
    "- `object` Puede almacenar cualquier tipo de dato"
   ]
  },
  {
   "cell_type": "code",
   "execution_count": 11,
   "id": "1330289a-735a-4a38-8720-82c725537513",
   "metadata": {},
   "outputs": [
    {
     "name": "stdout",
     "output_type": "stream",
     "text": [
      "Variable: string\n",
      "Número: 7\n",
      "Decimal: 7,77\n",
      "Booleano: True\n"
     ]
    }
   ],
   "source": [
    "string variable = \"string\";\n",
    "int numero = 7; // Números Enteros\n",
    "double decimales = 7.77; //Números Decimales\n",
    "bool booleano = true; // Booleano (Verdadero - Falso)\n",
    "object nulo = null; // Variable Nula\n",
    "\n",
    "Console.WriteLine($\"Variable: {variable}\");\n",
    "Console.WriteLine($\"Número: {numero}\");\n",
    "Console.WriteLine($\"Decimal: {decimales}\");\n",
    "Console.WriteLine($\"Booleano: {booleano}\");\n",
    " "
   ]
  },
  {
   "cell_type": "markdown",
   "id": "71953507-703d-4069-a6ff-e1a0954715b5",
   "metadata": {},
   "source": [
    "**Constantes**\n",
    "\n",
    "- `const`: Valores inmutables, se definen en tiempo de compilación\n",
    "- No usan prefijo `$` como las variables\n",
    "- Se declaran en mayúsculas"
   ]
  },
  {
   "cell_type": "code",
   "execution_count": 39,
   "id": "d01b7539-e7c8-45b0-a454-c88dfdaf999e",
   "metadata": {},
   "outputs": [
    {
     "name": "stdout",
     "output_type": "stream",
     "text": [
      "PI: 3,1416\n",
      "Nombre: Guaica\n",
      "Edad: 19\n"
     ]
    }
   ],
   "source": [
    "const double PI = 3.1416;\n",
    "const string NOMBRE = \"Guaica\";\n",
    "const int EDAD = 19;\n",
    "\n",
    "Console.WriteLine($\"PI: {PI}\");\n",
    "Console.WriteLine($\"Nombre: {NOMBRE}\");\n",
    "\n",
    "Console.WriteLine($\"Edad: {EDAD}\");"
   ]
  },
  {
   "cell_type": "markdown",
   "id": "1e8505d9-8d71-48f6-ade0-ff8ca67f28df",
   "metadata": {},
   "source": [
    "**Operadores Aritméticos**\n",
    "\n",
    "- `+` Suma\n",
    "- `-` Resta\n",
    "- `*` Multiplicación\n",
    "- `/` División (resultado depende de los tipos)\n",
    "- `%` Módulo (resto de división)\n",
    "- `Math.Pow()` Exponenciación"
   ]
  },
  {
   "cell_type": "code",
   "execution_count": 40,
   "id": "83ea2593-1522-4110-9914-ae46091927e9",
   "metadata": {},
   "outputs": [
    {
     "name": "stdout",
     "output_type": "stream",
     "text": [
      "10\n",
      "4\n",
      "21\n",
      "2,3333333333333335\n",
      "1\n",
      "343\n"
     ]
    }
   ],
   "source": [
    "int a = 7;\n",
    "int b = 3;\n",
    "\n",
    "Console.WriteLine(a + b);\n",
    "Console.WriteLine(a - b);\n",
    "Console.WriteLine(a * b);\n",
    "Console.WriteLine((double)a / b);\n",
    "Console.WriteLine(a % b);\n",
    "Console.WriteLine(Math.Pow(a, b));"
   ]
  },
  {
   "cell_type": "markdown",
   "id": "1a53426c-4d80-4cb1-862e-afa3b93feba8",
   "metadata": {},
   "source": [
    "**Operadores de Comparación**\n",
    "\n",
    "- `==` Igualdad (mismo valor)\n",
    "- `!=` Diferente en valor\n",
    "- `>` Mayor que\n",
    "- `<` Menor que\n",
    "- `>=` Mayor o igual que\n",
    "- `<=` Menor o igual que"
   ]
  },
  {
   "cell_type": "code",
   "execution_count": 41,
   "id": "bd674a9f-3788-433d-a880-fec20dbf8d5d",
   "metadata": {},
   "outputs": [
    {
     "name": "stdout",
     "output_type": "stream",
     "text": [
      "True\n",
      "False\n",
      "True\n",
      "True\n",
      "True\n",
      "True\n"
     ]
    }
   ],
   "source": [
    "int a = 7;\n",
    "string b = \"7\";\n",
    "\n",
    "Console.WriteLine(a == 7);// true\n",
    "Console.WriteLine(a != 7); // false\n",
    "Console.WriteLine(a > 5);// true\n",
    "Console.WriteLine(a < 10);// true\n",
    "Console.WriteLine(a >= 7);// true\n",
    "Console.WriteLine(a <= 7);// true"
   ]
  },
  {
   "cell_type": "markdown",
   "id": "bdd8cffd-426e-46ce-9b29-6b5816ab9f25",
   "metadata": {},
   "source": [
    "**Operadores booleanos:**\n",
    "\n",
    "- `&&` AND\n",
    "- `||` OR\n",
    "- `!` NOT\n",
    "- `^` XOR"
   ]
  },
  {
   "cell_type": "code",
   "execution_count": 42,
   "id": "344cfd6f-187d-4dfd-ac7a-76cb0ad8ba22",
   "metadata": {},
   "outputs": [
    {
     "name": "stdout",
     "output_type": "stream",
     "text": [
      "False\n",
      "True\n",
      "False\n",
      "True\n"
     ]
    }
   ],
   "source": [
    "bool a = true;\n",
    "bool b = false;\n",
    "\n",
    "Console.WriteLine(a && b);// false - AND\n",
    "Console.WriteLine(a || b);// true - OR\n",
    "Console.WriteLine(!a);// false - NOT\n",
    "Console.WriteLine(a ^ b);// true - XOR"
   ]
  },
  {
   "cell_type": "markdown",
   "id": "0328005f-4644-4c86-a745-f04e19cd19d7",
   "metadata": {},
   "source": [
    "**Condicionales:**\n",
    "\n",
    "- `if`: Evalúa condición\n",
    "- `else if`: Condición alternativa\n",
    "- `else`: Caso por defecto"
   ]
  },
  {
   "cell_type": "code",
   "execution_count": 43,
   "id": "d66dad21-84cb-4898-9e22-873357ce283f",
   "metadata": {},
   "outputs": [
    {
     "name": "stdout",
     "output_type": "stream",
     "text": [
      "Mayor de edad\n"
     ]
    }
   ],
   "source": [
    "int edad = 18;\n",
    "\n",
    "if (edad >= 18) {\n",
    "    Console.WriteLine(\"Mayor de edad\");\n",
    "} else if (edad >= 13) {\n",
    "    Console.WriteLine(\"Adolescente\");\n",
    "} else {\n",
    "    Console.WriteLine(\"Niño\");\n",
    "}"
   ]
  },
  {
   "cell_type": "markdown",
   "id": "6589a735-e4f1-4230-b41a-e57e322577e2",
   "metadata": {},
   "source": [
    "**Switch**\n",
    "\n",
    "- `case`: Cada caso posible\n",
    "- `break`: Obligatorio en cada case\n",
    "- `default`: Caso cuando no coincide ningún case"
   ]
  },
  {
   "cell_type": "code",
   "execution_count": 44,
   "id": "cdb5e32c-842c-41e4-b15d-f41e23561942",
   "metadata": {},
   "outputs": [
    {
     "name": "stdout",
     "output_type": "stream",
     "text": [
      "Dia Normalito\n"
     ]
    }
   ],
   "source": [
    "string dia = \"viernes\";\n",
    "\n",
    "switch (dia) {\n",
    "    case \"lunes\":\n",
    "        Console.WriteLine(\"Que flojera (Soy como Garfield)\");\n",
    "        break;\n",
    "    case \"sabado\":\n",
    "        Console.WriteLine(\"Que flojera levantarme a las 5:00 Am un sabado\");\n",
    "        break;\n",
    "    default:\n",
    "        Console.WriteLine(\"Dia Normalito\");\n",
    "        break;\n",
    "}"
   ]
  },
  {
   "cell_type": "markdown",
   "id": "d7819145-b6a0-4d4d-ac8a-1cf8761b4938",
   "metadata": {},
   "source": [
    "**Tipos de bucles:**\n",
    "\n",
    "- `for`: Cuando se sabe el número de iteraciones\n",
    "- `foreach`: Para recorrer arrays y colecciones\n",
    "- `while`: Mientras condición sea verdadera\n",
    "- `do-while`: Ejecuta al menos una vez\n",
    "- `break`: sale del bucle, continue salta a siguiente iteración"
   ]
  },
  {
   "cell_type": "code",
   "execution_count": 45,
   "id": "be383027-b0d9-465c-bdb7-7e35c61b502b",
   "metadata": {},
   "outputs": [
    {
     "name": "stdout",
     "output_type": "stream",
     "text": [
      "0\n",
      "1\n",
      "2\n",
      "3\n",
      "4\n",
      "5\n",
      "6\n",
      "7\n",
      "8\n",
      "9\n",
      "10\n"
     ]
    }
   ],
   "source": [
    "for (int i = 0; i < 4; i++) {\n",
    "    Console.WriteLine(i);\n",
    "}\n",
    "\n",
    "int[] numeros = {4, 5, 6};\n",
    "foreach (int num in numeros) {\n",
    "    Console.WriteLine(num);\n",
    "}\n",
    "\n",
    "int contador = 7;\n",
    "while (contador <= 10) {\n",
    "    Console.WriteLine(contador);\n",
    "    contador++;\n",
    "}\n"
   ]
  },
  {
   "cell_type": "markdown",
   "id": "50526b82-5d5c-4b7c-84d6-2f08efa2dfc4",
   "metadata": {},
   "source": [
    "**Funciones:**\n",
    "\n",
    "- Definidas con tipo de retorno y parámetros tipados\n",
    "- `return` devuelve valor (obligatorio si no es void)\n",
    "- `Scope local`: variables dentro no son accesibles fuera"
   ]
  },
  {
   "cell_type": "code",
   "execution_count": 46,
   "id": "3119503a-180f-4fdb-afaa-e0885cf84426",
   "metadata": {},
   "outputs": [
    {
     "name": "stdout",
     "output_type": "stream",
     "text": [
      "Holiwis Profe\n",
      "\n",
      "Holiwis Guaica\n",
      "\n"
     ]
    }
   ],
   "source": [
    "string Saludar(string nombre = \"Profe\") {\n",
    "    return $\"Holiwis {nombre}\\n\";\n",
    "}\n",
    "\n",
    "Console.WriteLine(Saludar());\n",
    "Console.WriteLine(Saludar(\"Guaica\"));"
   ]
  },
  {
   "cell_type": "markdown",
   "id": "b267f3b8-efc4-4f04-98cb-289fb73aa3ae",
   "metadata": {},
   "source": [
    "**Funciones para Arrays**"
   ]
  },
  {
   "cell_type": "code",
   "execution_count": 47,
   "id": "702313e8-b773-4368-a643-ce48b065c1fb",
   "metadata": {},
   "outputs": [
    {
     "name": "stdout",
     "output_type": "stream",
     "text": [
      "2, 4\n",
      "1, 4, 9, 16, 25\n",
      "suma: 15\n",
      "cantidad = 5\n"
     ]
    }
   ],
   "source": [
    "int[] numeros = {1, 2, 3, 4, 5};\n",
    "\n",
    "// Filtrar números pares\n",
    "var pares = Array.FindAll(numeros, n => n % 2 == 0);\n",
    "Console.WriteLine(string.Join(\", \", pares));\n",
    "\n",
    "var cuadrados = Array.ConvertAll(numeros, n => n * n);\n",
    "Console.WriteLine(string.Join(\", \", cuadrados));\n",
    "\n",
    "int suma = numeros.Sum();\n",
    "Console.WriteLine($\"suma: {suma}\");\n",
    "\n",
    "Console.WriteLine($\"cantidad = {numeros.Length}\");"
   ]
  },
  {
   "cell_type": "markdown",
   "id": "98a517b8-d39e-47a2-91db-590407d19e2f",
   "metadata": {},
   "source": [
    "- `Array.FindAll`: Filtra elementos según condición\n",
    "- `Array.ConvertAll`: Aplica función a cada elemento\n",
    "- `Sum()`: Suma todos los elementos (necesita using System.Linq;)\n",
    "- `Length`: Cuenta elementos"
   ]
  },
  {
   "cell_type": "markdown",
   "id": "b2df1ea0-80fb-4bbe-b709-65cb55654028",
   "metadata": {},
   "source": [
    "**Programación Orientada a Objetos**"
   ]
  },
  {
   "cell_type": "code",
   "execution_count": 33,
   "id": "c6b601af-7a16-464b-a16e-8127f2887458",
   "metadata": {},
   "outputs": [
    {
     "name": "stdout",
     "output_type": "stream",
     "text": [
      "Hola, soy Guaica\n"
     ]
    }
   ],
   "source": [
    "class Persona {\n",
    "    // Propiedades\n",
    "    public string Nombre;\n",
    "    protected int Edad;\n",
    "    \n",
    "    // Constructor\n",
    "    public Persona(string nombre, int edad) {\n",
    "        this.Nombre = nombre;\n",
    "        this.Edad = edad;\n",
    "    }\n",
    "    \n",
    "    // Métodos\n",
    "    public string Saludar() {\n",
    "        return $\"Hola, soy {this.Nombre}\";\n",
    "    }\n",
    "}\n",
    "\n",
    "Persona persona = new Persona(\"Guaica\", 19);\n",
    "Console.WriteLine(persona.Saludar());"
   ]
  },
  {
   "cell_type": "markdown",
   "id": "765c6712-5d01-4049-be20-48301886fcc1",
   "metadata": {},
   "source": [
    "- `class` : Define una clase\n",
    "- `public` : Accesible desde cualquier lugar\n",
    "- `protected` : Accesible desde la clase y herederas\n",
    "- `private` : Solo accesible desde la clase\n",
    "- `this` : Referencia al objeto actual\n",
    "- `Constructor` : Mismo nombre que la clase\n",
    "- `new` : Crea nueva instancia"
   ]
  },
  {
   "cell_type": "markdown",
   "id": "05451950-3a8c-426f-856f-74b03177611f",
   "metadata": {},
   "source": [
    "**Herencia**"
   ]
  },
  {
   "cell_type": "code",
   "execution_count": 38,
   "id": "96682b03-2821-4330-b834-80f366931e4b",
   "metadata": {},
   "outputs": [
    {
     "name": "stdout",
     "output_type": "stream",
     "text": [
      "Hola, soy Guaica, soy un Estudiante\n"
     ]
    }
   ],
   "source": [
    "// Clase base\n",
    "class Persona {\n",
    "    public string Nombre;\n",
    "    protected int Edad;\n",
    "    \n",
    "    public Persona(string nombre, int edad) {\n",
    "        this.Nombre = nombre;\n",
    "        this.Edad = edad;\n",
    "    }\n",
    "    \n",
    "    public virtual string Saludar() {\n",
    "        return $\"Hola, soy {this.Nombre}\";\n",
    "    }\n",
    "}\n",
    "\n",
    "// Clase derivada\n",
    "class Ocupacion : Persona {\n",
    "    private string Puesto;\n",
    "    \n",
    "    public Ocupacion(string nombre, int edad, string puesto) : base(nombre, edad) {\n",
    "        this.Puesto = puesto;\n",
    "    }\n",
    "    \n",
    "    public override string Saludar() {\n",
    "        return base.Saludar() + $\", soy un {this.Puesto}\";\n",
    "    }\n",
    "}\n",
    "\n",
    "Ocupacion ocupacion = new Ocupacion(\"Guaica\", 19, \"Estudiante\");\n",
    "Console.WriteLine(empleado.Saludar());"
   ]
  }
 ],
 "metadata": {
  "kernelspec": {
   "display_name": ".NET (C#)",
   "language": "C#",
   "name": ".net-csharp"
  },
  "language_info": {
   "file_extension": ".cs",
   "mimetype": "text/x-csharp",
   "name": "C#",
   "pygments_lexer": "csharp",
   "version": "13.0"
  }
 },
 "nbformat": 4,
 "nbformat_minor": 5
}
